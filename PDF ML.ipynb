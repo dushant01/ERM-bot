{
 "cells": [
  {
   "cell_type": "code",
   "execution_count": 3,
   "metadata": {},
   "outputs": [],
   "source": [
    "import PyPDF2"
   ]
  },
  {
   "cell_type": "code",
   "execution_count": 4,
   "metadata": {},
   "outputs": [],
   "source": [
    "pdfFileObj = open('kecs101.pdf', 'rb')"
   ]
  },
  {
   "cell_type": "code",
   "execution_count": 6,
   "metadata": {},
   "outputs": [
    {
     "name": "stdout",
     "output_type": "stream",
     "text": [
      "31\n"
     ]
    }
   ],
   "source": [
    "pdfReader = PyPDF2.PdfFileReader(pdfFileObj)\n",
    "print(pdfReader.numPages)"
   ]
  },
  {
   "cell_type": "code",
   "execution_count": 8,
   "metadata": {},
   "outputs": [],
   "source": [
    "pageObj = pdfReader.getPage(0)"
   ]
  },
  {
   "cell_type": "code",
   "execution_count": 10,
   "metadata": {},
   "outputs": [],
   "source": [
    "data= pageObj.extractText()"
   ]
  },
  {
   "cell_type": "code",
   "execution_count": 11,
   "metadata": {},
   "outputs": [
    {
     "data": {
      "text/plain": [
       "'1.1 INTRODUCTION TO COMPUTER SYSTEMA computer is an electronic device that can be \\nprogrammed to accept data (input), process it and \\n\\ngenerate result (output). A computer along with \\n\\nadditional hardware and software together is called a \\n\\ncomputer system.  A computer system primarily comprises a central \\nprocessing unit (CPU), memory, input/output devices \\n\\nand storage devices. All these components function \\ntogether as a single unit to deliver the desired output. \\nA computer system comes in various forms and sizes. \\n\\nIt can vary from a high-end server to personal desktop, \\n\\nlaptop, tablet computer, or a smartphone. Figure 1.1 shows the block diagram of a computer \\nand signal between the components. 1.1.1 Central Processing Unit (CPU)It is the electronic circuitry of a computer that carries \\nout the actual processing and usually referred as the \\nbrain of the computer. It is commonly called processor \\n\\nalso. Physically, a CPU can be placed on one or more \\n\\nmicrochips called integrated circuits (IC). The ICs \\n\\ncomprise semiconductor materials. ﬁA computer would deserve to be called intelligent if it could deceive a human into believing that it was human.ﬂ ŒAlan TuringC˜˚˛˝˙ˆ 1\\n Cˇˆ S˘\\nIn this chapter »Introduction to Computer System »Evolution of \\nComputer  »Computer Memory  »Data Transfer \\nbetween Memory \\nand CPU »Data and \\nInformation »Microprocessors »Software »Operating SystemFigure 1.1: Components of a computer systemSecondary Storage DevicesInput DeviceControl Unit (CU)Arithmetic Logic Unit (ALU)Primary MemoryOutput DeviceCentral Processing Unit (CPU)Ch 1.indd   108-Apr-19   11:36:15 AM'"
      ]
     },
     "execution_count": 11,
     "metadata": {},
     "output_type": "execute_result"
    }
   ],
   "source": [
    "data"
   ]
  },
  {
   "cell_type": "code",
   "execution_count": null,
   "metadata": {},
   "outputs": [],
   "source": []
  }
 ],
 "metadata": {
  "kernelspec": {
   "display_name": "school_al",
   "language": "python",
   "name": "school_al"
  },
  "language_info": {
   "codemirror_mode": {
    "name": "ipython",
    "version": 3
   },
   "file_extension": ".py",
   "mimetype": "text/x-python",
   "name": "python",
   "nbconvert_exporter": "python",
   "pygments_lexer": "ipython3",
   "version": "3.8.3"
  }
 },
 "nbformat": 4,
 "nbformat_minor": 4
}
