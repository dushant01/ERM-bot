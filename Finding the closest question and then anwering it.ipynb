{
 "cells": [
  {
   "cell_type": "code",
   "execution_count": 74,
   "metadata": {},
   "outputs": [],
   "source": [
    "#ERMBOT Collecting data and Creating a ML model to get similar question and print their answer"
   ]
  },
  {
   "cell_type": "code",
   "execution_count": 75,
   "metadata": {},
   "outputs": [],
   "source": [
    "#Finding the closest question and then anwering it"
   ]
  },
  {
   "cell_type": "code",
   "execution_count": 76,
   "metadata": {},
   "outputs": [
    {
     "name": "stderr",
     "output_type": "stream",
     "text": [
      "[nltk_data] Downloading package stopwords to\n",
      "[nltk_data]     C:\\Users\\HP\\AppData\\Roaming\\nltk_data...\n",
      "[nltk_data]   Package stopwords is already up-to-date!\n",
      "[nltk_data] Downloading package punkt to\n",
      "[nltk_data]     C:\\Users\\HP\\AppData\\Roaming\\nltk_data...\n",
      "[nltk_data]   Package punkt is already up-to-date!\n"
     ]
    },
    {
     "data": {
      "text/plain": [
       "True"
      ]
     },
     "execution_count": 76,
     "metadata": {},
     "output_type": "execute_result"
    }
   ],
   "source": [
    "import pandas as pd\n",
    "import numpy as np\n",
    "import string\n",
    "from nltk.tokenize import word_tokenize\n",
    "from nltk.stem import WordNetLemmatizer\n",
    "from nltk.corpus import stopwords\n",
    "from nltk.corpus import wordnet\n",
    "from nltk import pos_tag\n",
    "from sklearn.feature_extraction.text import TfidfVectorizer\n",
    "from sklearn.metrics.pairwise import cosine_similarity\n",
    "import nltk\n",
    "nltk.download('stopwords')\n",
    "nltk.download('punkt')"
   ]
  },
  {
   "cell_type": "code",
   "execution_count": 77,
   "metadata": {},
   "outputs": [],
   "source": [
    "df1= pd.read_excel(\"Book1.xlsx\")\n",
    "df2= pd.read_excel(\"Book2.xlsx\")"
   ]
  },
  {
   "cell_type": "code",
   "execution_count": 78,
   "metadata": {},
   "outputs": [
    {
     "data": {
      "text/html": [
       "<div>\n",
       "<style scoped>\n",
       "    .dataframe tbody tr th:only-of-type {\n",
       "        vertical-align: middle;\n",
       "    }\n",
       "\n",
       "    .dataframe tbody tr th {\n",
       "        vertical-align: top;\n",
       "    }\n",
       "\n",
       "    .dataframe thead th {\n",
       "        text-align: right;\n",
       "    }\n",
       "</style>\n",
       "<table border=\"1\" class=\"dataframe\">\n",
       "  <thead>\n",
       "    <tr style=\"text-align: right;\">\n",
       "      <th></th>\n",
       "      <th>ArticleTitle</th>\n",
       "      <th>Question</th>\n",
       "      <th>Answer</th>\n",
       "      <th>DifficultyFromQuestioner</th>\n",
       "      <th>DifficultyFromAnswerer</th>\n",
       "      <th>ArticleFile</th>\n",
       "    </tr>\n",
       "  </thead>\n",
       "  <tbody>\n",
       "    <tr>\n",
       "      <th>0</th>\n",
       "      <td>Alessandro_Volta</td>\n",
       "      <td>Was Alessandro Volta a professor of chemistry?</td>\n",
       "      <td>Alessandro Volta was not a professor of chemis...</td>\n",
       "      <td>easy</td>\n",
       "      <td>easy</td>\n",
       "      <td>data/set4/a10</td>\n",
       "    </tr>\n",
       "    <tr>\n",
       "      <th>1</th>\n",
       "      <td>Alessandro_Volta</td>\n",
       "      <td>Was Alessandro Volta a professor of chemistry?</td>\n",
       "      <td>No</td>\n",
       "      <td>easy</td>\n",
       "      <td>hard</td>\n",
       "      <td>data/set4/a10</td>\n",
       "    </tr>\n",
       "    <tr>\n",
       "      <th>2</th>\n",
       "      <td>Alessandro_Volta</td>\n",
       "      <td>Did Alessandro Volta invent the remotely opera...</td>\n",
       "      <td>Alessandro Volta did invent the remotely opera...</td>\n",
       "      <td>easy</td>\n",
       "      <td>easy</td>\n",
       "      <td>data/set4/a10</td>\n",
       "    </tr>\n",
       "    <tr>\n",
       "      <th>3</th>\n",
       "      <td>Alessandro_Volta</td>\n",
       "      <td>Did Alessandro Volta invent the remotely opera...</td>\n",
       "      <td>Yes</td>\n",
       "      <td>easy</td>\n",
       "      <td>easy</td>\n",
       "      <td>data/set4/a10</td>\n",
       "    </tr>\n",
       "    <tr>\n",
       "      <th>4</th>\n",
       "      <td>Alessandro_Volta</td>\n",
       "      <td>Was Alessandro Volta taught in public schools?</td>\n",
       "      <td>Volta was taught in public schools.</td>\n",
       "      <td>easy</td>\n",
       "      <td>easy</td>\n",
       "      <td>data/set4/a10</td>\n",
       "    </tr>\n",
       "    <tr>\n",
       "      <th>5</th>\n",
       "      <td>Alessandro_Volta</td>\n",
       "      <td>Was Alessandro Volta taught in public schools?</td>\n",
       "      <td>Yes</td>\n",
       "      <td>easy</td>\n",
       "      <td>easy</td>\n",
       "      <td>data/set4/a10</td>\n",
       "    </tr>\n",
       "    <tr>\n",
       "      <th>6</th>\n",
       "      <td>Alessandro_Volta</td>\n",
       "      <td>Who did Alessandro Volta marry?</td>\n",
       "      <td>Alessandro Volta married Teresa Peregrini.</td>\n",
       "      <td>medium</td>\n",
       "      <td>medium</td>\n",
       "      <td>data/set4/a10</td>\n",
       "    </tr>\n",
       "    <tr>\n",
       "      <th>7</th>\n",
       "      <td>Alessandro_Volta</td>\n",
       "      <td>Who did Alessandro Volta marry?</td>\n",
       "      <td>Teresa Peregrini</td>\n",
       "      <td>medium</td>\n",
       "      <td>medium</td>\n",
       "      <td>data/set4/a10</td>\n",
       "    </tr>\n",
       "    <tr>\n",
       "      <th>8</th>\n",
       "      <td>Alessandro_Volta</td>\n",
       "      <td>What did Alessandro Volta invent in 1800?</td>\n",
       "      <td>In 1800, Alessandro Volta invented the voltaic...</td>\n",
       "      <td>medium</td>\n",
       "      <td>easy</td>\n",
       "      <td>data/set4/a10</td>\n",
       "    </tr>\n",
       "    <tr>\n",
       "      <th>9</th>\n",
       "      <td>Alessandro_Volta</td>\n",
       "      <td>What did Alessandro Volta invent in 1800?</td>\n",
       "      <td>voltaic pile</td>\n",
       "      <td>medium</td>\n",
       "      <td>medium</td>\n",
       "      <td>data/set4/a10</td>\n",
       "    </tr>\n",
       "    <tr>\n",
       "      <th>10</th>\n",
       "      <td>Alessandro_Volta</td>\n",
       "      <td>What is the battery made by Alessandro Volta c...</td>\n",
       "      <td>The battery made by Volta is credited as the f...</td>\n",
       "      <td>medium</td>\n",
       "      <td>medium</td>\n",
       "      <td>data/set4/a10</td>\n",
       "    </tr>\n",
       "    <tr>\n",
       "      <th>11</th>\n",
       "      <td>Alessandro_Volta</td>\n",
       "      <td>What is the battery made by Alessandro Volta c...</td>\n",
       "      <td>the first electrochemical cell</td>\n",
       "      <td>medium</td>\n",
       "      <td>medium</td>\n",
       "      <td>data/set4/a10</td>\n",
       "    </tr>\n",
       "    <tr>\n",
       "      <th>12</th>\n",
       "      <td>Alessandro_Volta</td>\n",
       "      <td>Did Alessandro Volta die and retire in the sam...</td>\n",
       "      <td>Alessandro Volta retired and died in the same ...</td>\n",
       "      <td>hard</td>\n",
       "      <td>hard</td>\n",
       "      <td>data/set4/a10</td>\n",
       "    </tr>\n",
       "    <tr>\n",
       "      <th>13</th>\n",
       "      <td>Alessandro_Volta</td>\n",
       "      <td>Did Alessandro Volta die and retire in the sam...</td>\n",
       "      <td>Yes</td>\n",
       "      <td>hard</td>\n",
       "      <td>hard</td>\n",
       "      <td>data/set4/a10</td>\n",
       "    </tr>\n",
       "    <tr>\n",
       "      <th>14</th>\n",
       "      <td>Alessandro_Volta</td>\n",
       "      <td>When did Alessandro Volta improve  and popular...</td>\n",
       "      <td>Alessandro Volta improved and popularized the ...</td>\n",
       "      <td>hard</td>\n",
       "      <td>hard</td>\n",
       "      <td>data/set4/a10</td>\n",
       "    </tr>\n",
       "    <tr>\n",
       "      <th>15</th>\n",
       "      <td>Alessandro_Volta</td>\n",
       "      <td>When did Alessandro Volta improve  and popular...</td>\n",
       "      <td>1775</td>\n",
       "      <td>hard</td>\n",
       "      <td>hard</td>\n",
       "      <td>data/set4/a10</td>\n",
       "    </tr>\n",
       "    <tr>\n",
       "      <th>16</th>\n",
       "      <td>Alessandro_Volta</td>\n",
       "      <td>How long was Alessandro Volta a professor at t...</td>\n",
       "      <td>Alessandro Volta was a professor at the Univer...</td>\n",
       "      <td>hard</td>\n",
       "      <td>hard</td>\n",
       "      <td>data/set4/a10</td>\n",
       "    </tr>\n",
       "    <tr>\n",
       "      <th>17</th>\n",
       "      <td>Alessandro_Volta</td>\n",
       "      <td>How long was Alessandro Volta a professor at t...</td>\n",
       "      <td>almost 25 years</td>\n",
       "      <td>hard</td>\n",
       "      <td>hard</td>\n",
       "      <td>data/set4/a10</td>\n",
       "    </tr>\n",
       "    <tr>\n",
       "      <th>18</th>\n",
       "      <td>Alessandro_Volta</td>\n",
       "      <td>Was Alessandro Volta an Egyptian?</td>\n",
       "      <td>no</td>\n",
       "      <td>easy</td>\n",
       "      <td>easy</td>\n",
       "      <td>data/set4/a10</td>\n",
       "    </tr>\n",
       "    <tr>\n",
       "      <th>19</th>\n",
       "      <td>Alessandro_Volta</td>\n",
       "      <td>Was Alessandro Volta an Egyptian?</td>\n",
       "      <td>No.</td>\n",
       "      <td>easy</td>\n",
       "      <td>easy</td>\n",
       "      <td>data/set4/a10</td>\n",
       "    </tr>\n",
       "  </tbody>\n",
       "</table>\n",
       "</div>"
      ],
      "text/plain": [
       "        ArticleTitle                                           Question  \\\n",
       "0   Alessandro_Volta     Was Alessandro Volta a professor of chemistry?   \n",
       "1   Alessandro_Volta     Was Alessandro Volta a professor of chemistry?   \n",
       "2   Alessandro_Volta  Did Alessandro Volta invent the remotely opera...   \n",
       "3   Alessandro_Volta  Did Alessandro Volta invent the remotely opera...   \n",
       "4   Alessandro_Volta     Was Alessandro Volta taught in public schools?   \n",
       "5   Alessandro_Volta     Was Alessandro Volta taught in public schools?   \n",
       "6   Alessandro_Volta                    Who did Alessandro Volta marry?   \n",
       "7   Alessandro_Volta                    Who did Alessandro Volta marry?   \n",
       "8   Alessandro_Volta          What did Alessandro Volta invent in 1800?   \n",
       "9   Alessandro_Volta          What did Alessandro Volta invent in 1800?   \n",
       "10  Alessandro_Volta  What is the battery made by Alessandro Volta c...   \n",
       "11  Alessandro_Volta  What is the battery made by Alessandro Volta c...   \n",
       "12  Alessandro_Volta  Did Alessandro Volta die and retire in the sam...   \n",
       "13  Alessandro_Volta  Did Alessandro Volta die and retire in the sam...   \n",
       "14  Alessandro_Volta  When did Alessandro Volta improve  and popular...   \n",
       "15  Alessandro_Volta  When did Alessandro Volta improve  and popular...   \n",
       "16  Alessandro_Volta  How long was Alessandro Volta a professor at t...   \n",
       "17  Alessandro_Volta  How long was Alessandro Volta a professor at t...   \n",
       "18  Alessandro_Volta                  Was Alessandro Volta an Egyptian?   \n",
       "19  Alessandro_Volta                  Was Alessandro Volta an Egyptian?   \n",
       "\n",
       "                                               Answer  \\\n",
       "0   Alessandro Volta was not a professor of chemis...   \n",
       "1                                                  No   \n",
       "2   Alessandro Volta did invent the remotely opera...   \n",
       "3                                                 Yes   \n",
       "4                 Volta was taught in public schools.   \n",
       "5                                                 Yes   \n",
       "6          Alessandro Volta married Teresa Peregrini.   \n",
       "7                                    Teresa Peregrini   \n",
       "8   In 1800, Alessandro Volta invented the voltaic...   \n",
       "9                                        voltaic pile   \n",
       "10  The battery made by Volta is credited as the f...   \n",
       "11                     the first electrochemical cell   \n",
       "12  Alessandro Volta retired and died in the same ...   \n",
       "13                                                Yes   \n",
       "14  Alessandro Volta improved and popularized the ...   \n",
       "15                                               1775   \n",
       "16  Alessandro Volta was a professor at the Univer...   \n",
       "17                                    almost 25 years   \n",
       "18                                                 no   \n",
       "19                                                No.   \n",
       "\n",
       "   DifficultyFromQuestioner DifficultyFromAnswerer    ArticleFile  \n",
       "0                      easy                   easy  data/set4/a10  \n",
       "1                      easy                   hard  data/set4/a10  \n",
       "2                      easy                   easy  data/set4/a10  \n",
       "3                      easy                   easy  data/set4/a10  \n",
       "4                      easy                   easy  data/set4/a10  \n",
       "5                      easy                   easy  data/set4/a10  \n",
       "6                    medium                 medium  data/set4/a10  \n",
       "7                    medium                 medium  data/set4/a10  \n",
       "8                    medium                   easy  data/set4/a10  \n",
       "9                    medium                 medium  data/set4/a10  \n",
       "10                   medium                 medium  data/set4/a10  \n",
       "11                   medium                 medium  data/set4/a10  \n",
       "12                     hard                   hard  data/set4/a10  \n",
       "13                     hard                   hard  data/set4/a10  \n",
       "14                     hard                   hard  data/set4/a10  \n",
       "15                     hard                   hard  data/set4/a10  \n",
       "16                     hard                   hard  data/set4/a10  \n",
       "17                     hard                   hard  data/set4/a10  \n",
       "18                     easy                   easy  data/set4/a10  \n",
       "19                     easy                   easy  data/set4/a10  "
      ]
     },
     "execution_count": 78,
     "metadata": {},
     "output_type": "execute_result"
    }
   ],
   "source": [
    "df1.head(20)\n"
   ]
  },
  {
   "cell_type": "code",
   "execution_count": 79,
   "metadata": {},
   "outputs": [
    {
     "name": "stdout",
     "output_type": "stream",
     "text": [
      "<class 'pandas.core.frame.DataFrame'>\n",
      "Int64Index: 3173 entries, 0 to 1714\n",
      "Data columns (total 6 columns):\n",
      " #   Column                    Non-Null Count  Dtype \n",
      "---  ------                    --------------  ----- \n",
      " 0   ArticleTitle              3173 non-null   object\n",
      " 1   Question                  3136 non-null   object\n",
      " 2   Answer                    2697 non-null   object\n",
      " 3   DifficultyFromQuestioner  2486 non-null   object\n",
      " 4   DifficultyFromAnswerer    2695 non-null   object\n",
      " 5   ArticleFile               3171 non-null   object\n",
      "dtypes: object(6)\n",
      "memory usage: 173.5+ KB\n"
     ]
    }
   ],
   "source": [
    "all_data = df1.append(df2)\n",
    "all_data.info()"
   ]
  },
  {
   "cell_type": "code",
   "execution_count": 80,
   "metadata": {},
   "outputs": [
    {
     "data": {
      "text/plain": [
       "ArticleTitle                  0\n",
       "Question                     37\n",
       "Answer                      476\n",
       "DifficultyFromQuestioner    687\n",
       "DifficultyFromAnswerer      478\n",
       "ArticleFile                   2\n",
       "dtype: int64"
      ]
     },
     "execution_count": 80,
     "metadata": {},
     "output_type": "execute_result"
    }
   ],
   "source": [
    "all_data.isnull().sum()"
   ]
  },
  {
   "cell_type": "code",
   "execution_count": 81,
   "metadata": {},
   "outputs": [],
   "source": [
    "all_data.dropna(inplace=True)"
   ]
  },
  {
   "cell_type": "code",
   "execution_count": 82,
   "metadata": {},
   "outputs": [
    {
     "data": {
      "text/plain": [
       "(2176, 2)"
      ]
     },
     "execution_count": 82,
     "metadata": {},
     "output_type": "execute_result"
    }
   ],
   "source": [
    "all_data['Question'] = all_data['ArticleTitle'].str.replace('_', ' ') + ' ' + all_data['Question']\n",
    "all_data = all_data[['Question', 'Answer']]\n",
    "all_data.shape"
   ]
  },
  {
   "cell_type": "code",
   "execution_count": 83,
   "metadata": {},
   "outputs": [
    {
     "data": {
      "text/html": [
       "<div>\n",
       "<style scoped>\n",
       "    .dataframe tbody tr th:only-of-type {\n",
       "        vertical-align: middle;\n",
       "    }\n",
       "\n",
       "    .dataframe tbody tr th {\n",
       "        vertical-align: top;\n",
       "    }\n",
       "\n",
       "    .dataframe thead th {\n",
       "        text-align: right;\n",
       "    }\n",
       "</style>\n",
       "<table border=\"1\" class=\"dataframe\">\n",
       "  <thead>\n",
       "    <tr style=\"text-align: right;\">\n",
       "      <th></th>\n",
       "      <th>Question</th>\n",
       "      <th>Answer</th>\n",
       "    </tr>\n",
       "  </thead>\n",
       "  <tbody>\n",
       "    <tr>\n",
       "      <th>0</th>\n",
       "      <td>Alessandro Volta Was Alessandro Volta a profes...</td>\n",
       "      <td>Alessandro Volta was not a professor of chemis...</td>\n",
       "    </tr>\n",
       "    <tr>\n",
       "      <th>1</th>\n",
       "      <td>Alessandro Volta Was Alessandro Volta a profes...</td>\n",
       "      <td>No</td>\n",
       "    </tr>\n",
       "    <tr>\n",
       "      <th>2</th>\n",
       "      <td>Alessandro Volta Did Alessandro Volta invent t...</td>\n",
       "      <td>Alessandro Volta did invent the remotely opera...</td>\n",
       "    </tr>\n",
       "    <tr>\n",
       "      <th>3</th>\n",
       "      <td>Alessandro Volta Did Alessandro Volta invent t...</td>\n",
       "      <td>Yes</td>\n",
       "    </tr>\n",
       "    <tr>\n",
       "      <th>4</th>\n",
       "      <td>Alessandro Volta Was Alessandro Volta taught i...</td>\n",
       "      <td>Volta was taught in public schools.</td>\n",
       "    </tr>\n",
       "    <tr>\n",
       "      <th>...</th>\n",
       "      <td>...</td>\n",
       "      <td>...</td>\n",
       "    </tr>\n",
       "    <tr>\n",
       "      <th>1698</th>\n",
       "      <td>Woodrow Wilson Did Wilson support desegregation?</td>\n",
       "      <td>no</td>\n",
       "    </tr>\n",
       "    <tr>\n",
       "      <th>1699</th>\n",
       "      <td>Woodrow Wilson Did Wilson support desegregation?</td>\n",
       "      <td>Not in the slightest.</td>\n",
       "    </tr>\n",
       "    <tr>\n",
       "      <th>1700</th>\n",
       "      <td>Woodrow Wilson Did Wilson support the committe...</td>\n",
       "      <td>no</td>\n",
       "    </tr>\n",
       "    <tr>\n",
       "      <th>1701</th>\n",
       "      <td>Woodrow Wilson Did Wilson support the committe...</td>\n",
       "      <td>No.</td>\n",
       "    </tr>\n",
       "    <tr>\n",
       "      <th>1702</th>\n",
       "      <td>Woodrow Wilson Did Wilson have any siblings?</td>\n",
       "      <td>yes</td>\n",
       "    </tr>\n",
       "  </tbody>\n",
       "</table>\n",
       "<p>2176 rows × 2 columns</p>\n",
       "</div>"
      ],
      "text/plain": [
       "                                               Question  \\\n",
       "0     Alessandro Volta Was Alessandro Volta a profes...   \n",
       "1     Alessandro Volta Was Alessandro Volta a profes...   \n",
       "2     Alessandro Volta Did Alessandro Volta invent t...   \n",
       "3     Alessandro Volta Did Alessandro Volta invent t...   \n",
       "4     Alessandro Volta Was Alessandro Volta taught i...   \n",
       "...                                                 ...   \n",
       "1698   Woodrow Wilson Did Wilson support desegregation?   \n",
       "1699   Woodrow Wilson Did Wilson support desegregation?   \n",
       "1700  Woodrow Wilson Did Wilson support the committe...   \n",
       "1701  Woodrow Wilson Did Wilson support the committe...   \n",
       "1702       Woodrow Wilson Did Wilson have any siblings?   \n",
       "\n",
       "                                                 Answer  \n",
       "0     Alessandro Volta was not a professor of chemis...  \n",
       "1                                                    No  \n",
       "2     Alessandro Volta did invent the remotely opera...  \n",
       "3                                                   Yes  \n",
       "4                   Volta was taught in public schools.  \n",
       "...                                                 ...  \n",
       "1698                                                 no  \n",
       "1699                              Not in the slightest.  \n",
       "1700                                                 no  \n",
       "1701                                                No.  \n",
       "1702                                                yes  \n",
       "\n",
       "[2176 rows x 2 columns]"
      ]
     },
     "execution_count": 83,
     "metadata": {},
     "output_type": "execute_result"
    }
   ],
   "source": [
    "all_data"
   ]
  },
  {
   "cell_type": "code",
   "execution_count": 84,
   "metadata": {},
   "outputs": [
    {
     "data": {
      "text/plain": [
       "(1198, 2)"
      ]
     },
     "execution_count": 84,
     "metadata": {},
     "output_type": "execute_result"
    }
   ],
   "source": [
    "all_data = all_data.drop_duplicates(subset='Question')\n",
    "all_data.shape"
   ]
  },
  {
   "cell_type": "code",
   "execution_count": 85,
   "metadata": {},
   "outputs": [
    {
     "name": "stderr",
     "output_type": "stream",
     "text": [
      "[nltk_data] Downloading package averaged_perceptron_tagger to\n",
      "[nltk_data]     C:\\Users\\HP\\AppData\\Roaming\\nltk_data...\n",
      "[nltk_data]   Package averaged_perceptron_tagger is already up-to-\n",
      "[nltk_data]       date!\n",
      "[nltk_data] Downloading package wordnet to\n",
      "[nltk_data]     C:\\Users\\HP\\AppData\\Roaming\\nltk_data...\n",
      "[nltk_data]   Package wordnet is already up-to-date!\n"
     ]
    },
    {
     "data": {
      "text/plain": [
       "True"
      ]
     },
     "execution_count": 85,
     "metadata": {},
     "output_type": "execute_result"
    }
   ],
   "source": [
    "nltk.download('averaged_perceptron_tagger')\n",
    "nltk.download('wordnet')"
   ]
  },
  {
   "cell_type": "code",
   "execution_count": 86,
   "metadata": {},
   "outputs": [],
   "source": [
    "stopwords_list = stopwords.words('english')\n",
    "\n",
    "lemmatizer = WordNetLemmatizer()\n",
    "\n",
    "\n",
    "def my_tokenizer(doc):\n",
    "    words = word_tokenize(doc)\n",
    "    \n",
    "    pos_tags = pos_tag(words)\n",
    "    \n",
    "    non_stopwords = [w for w in pos_tags if not w[0].lower() in stopwords_list]\n",
    "    \n",
    "    non_punctuation = [w for w in non_stopwords if not w[0] in string.punctuation]\n",
    "    \n",
    "    lemmas = []\n",
    "    for w in non_punctuation:\n",
    "        if w[1].startswith('J'):\n",
    "            pos = wordnet.ADJ\n",
    "        elif w[1].startswith('V'):\n",
    "            pos = wordnet.VERB\n",
    "        elif w[1].startswith('N'):\n",
    "            pos = wordnet.NOUN\n",
    "        elif w[1].startswith('R'):\n",
    "            pos = wordnet.ADV\n",
    "        else:\n",
    "            pos = wordnet.NOUN\n",
    "        \n",
    "        lemmas.append(lemmatizer.lemmatize(w[0], pos))\n",
    "\n",
    "    return lemmas"
   ]
  },
  {
   "cell_type": "code",
   "execution_count": 87,
   "metadata": {},
   "outputs": [
    {
     "name": "stdout",
     "output_type": "stream",
     "text": [
      "(1198, 1990)\n"
     ]
    }
   ],
   "source": [
    "tfidf_vectorizer = TfidfVectorizer(tokenizer=my_tokenizer)\n",
    "tfidf_matrix = tfidf_vectorizer.fit_transform(tuple(all_data['Question']))\n",
    "print(tfidf_matrix.shape)\n"
   ]
  },
  {
   "cell_type": "code",
   "execution_count": 88,
   "metadata": {},
   "outputs": [],
   "source": [
    "def ask_question(question):\n",
    "    query_vect = tfidf_vectorizer.transform([question])\n",
    "    similarity = cosine_similarity(query_vect, tfidf_matrix)\n",
    "    max_similarity = np.argmax(similarity, axis=None)\n",
    "    \n",
    "    print('Your question:', question)\n",
    "    print('Closest question found:', all_data.iloc[max_similarity]['Question'])\n",
    "    print('Similarity: {:.2%}'.format(similarity[0, max_similarity]))\n",
    "    print('Answer:', all_data.iloc[max_similarity]['Answer'])"
   ]
  },
  {
   "cell_type": "code",
   "execution_count": 89,
   "metadata": {},
   "outputs": [
    {
     "name": "stdout",
     "output_type": "stream",
     "text": [
      "Your question: When Abraham Lincoln started his political career\n",
      "Closest question found: Abraham Lincoln Did Lincoln start his political career in 1832?\n",
      "Similarity: 86.68%\n",
      "Answer: Yes\n"
     ]
    }
   ],
   "source": [
    "ask_question('When Abraham Lincoln started his political career')"
   ]
  },
  {
   "cell_type": "code",
   "execution_count": 96,
   "metadata": {},
   "outputs": [
    {
     "name": "stdout",
     "output_type": "stream",
     "text": [
      "Your question: elephant are big\n",
      "Closest question found: elephant Are elephants mammals?\n",
      "Similarity: 49.71%\n",
      "Answer: yes\n"
     ]
    }
   ],
   "source": [
    "ask_question('elephant are big')"
   ]
  },
  {
   "cell_type": "code",
   "execution_count": null,
   "metadata": {},
   "outputs": [],
   "source": [
    "#GCP"
   ]
  },
  {
   "cell_type": "code",
   "execution_count": null,
   "metadata": {},
   "outputs": [],
   "source": [
    "all_data.to_gbq(destination_table = 'Gmail_emails.email_data',project_id = '',if_exists = 'replace')\n",
    "print('email data successfully updated to BigQueqy.')"
   ]
  }
 ],
 "metadata": {
  "kernelspec": {
   "display_name": "Python 3",
   "language": "python",
   "name": "python3"
  },
  "language_info": {
   "codemirror_mode": {
    "name": "ipython",
    "version": 3
   },
   "file_extension": ".py",
   "mimetype": "text/x-python",
   "name": "python",
   "nbconvert_exporter": "python",
   "pygments_lexer": "ipython3",
   "version": "3.8.3"
  }
 },
 "nbformat": 4,
 "nbformat_minor": 4
}
